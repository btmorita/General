{
 "cells": [
  {
   "cell_type": "markdown",
   "metadata": {},
   "source": [
    "## Python Code Tricks"
   ]
  },
  {
   "cell_type": "code",
   "execution_count": null,
   "metadata": {},
   "outputs": [],
   "source": []
  },
  {
   "cell_type": "markdown",
   "metadata": {},
   "source": [
    "## General Commands"
   ]
  },
  {
   "cell_type": "code",
   "execution_count": null,
   "metadata": {},
   "outputs": [],
   "source": [
    "print(x)                      # Prints x\n",
    "len(x)                        # Describes the length of x\n",
    "type(x)                       # Describes the data type of x\n",
    "sorted(x)                     # Sorts x ascending\n",
    "sorted(x, reverse = True)     # Sorts x descending\n",
    "\n",
    "x.append()                    # Appends contents of () to x\n",
    "x = 'a' + x                   # Prepends 'a' to x\n",
    "\n",
    "x = [1,2.0,'three']           # Create lists using brackets\n",
    "\n",
    "my_string.split(\" \")          # Split my_string on spaces\n",
    "my_string.split(\",\")          # Split my_string on commas\n",
    "\n",
    "a_string.upper()              # Converts a_string to uppercase\n",
    "a_string.capitalize()         # Converts a_string to capitalized\n",
    "\n",
    "\n",
    "# Start from Range"
   ]
  },
  {
   "cell_type": "code",
   "execution_count": null,
   "metadata": {},
   "outputs": [],
   "source": []
  },
  {
   "cell_type": "markdown",
   "metadata": {},
   "source": [
    "## Substrings"
   ]
  },
  {
   "cell_type": "code",
   "execution_count": 3,
   "metadata": {},
   "outputs": [
    {
     "name": "stdout",
     "output_type": "stream",
     "text": [
      "Jared Lander\n",
      "----------\n",
      "Jared\n",
      "ared\n",
      "Jared\n",
      "----------\n",
      "Lander\n",
      "Lande\n",
      "Lander\n",
      "Lander\n"
     ]
    }
   ],
   "source": [
    "# Generate my_name variable\n",
    "my_name = 'Jared Lander'\n",
    "print(my_name)\n",
    "print('----------')\n",
    "# Generate first_name and last_name variables\n",
    "    '''\n",
    "    [a:b] where\n",
    "        a is the starting position\n",
    "            and the first position = 0\n",
    "        b is the ending position -1\n",
    "        \n",
    "        and\n",
    "        \n",
    "        if a is blank, start from the beginning: [:b] --> goes from 1st position to 5th position (0 through [5-1] or 1 through 5)\n",
    "        and\n",
    "        if b is blank, end at the last position: [a:] --> starts from a to last position\n",
    "            if a is negative, start from that many characters from the end\n",
    "    '''\n",
    "first_name = my_name[:5]\n",
    "print(first_name)\n",
    "first_name = my_name[1:5] # Wrong because string starts at position 0\n",
    "print(first_name)\n",
    "first_name = my_name[0:5]\n",
    "print(first_name)\n",
    "print('----------')\n",
    "last_name = my_name[-6:]\n",
    "print(last_name)\n",
    "last_name = my_name[-6:11] # Wrong because string ends at the last position -1 (here should be 12)\n",
    "print(last_name)\n",
    "last_name = my_name[-6:12]\n",
    "print(last_name)\n",
    "last_name = my_name[6:12]\n",
    "print(last_name)"
   ]
  },
  {
   "cell_type": "code",
   "execution_count": 7,
   "metadata": {},
   "outputs": [
    {
     "name": "stdout",
     "output_type": "stream",
     "text": [
      "List: [5, 5.0, 'five']\n",
      "----------\n",
      "5\n",
      "[6, 5.0, 'five']\n",
      "[6, 5.0]\n"
     ]
    }
   ],
   "source": [
    "# Also works with lists\n",
    "nums = [5, 5.0, 'five']\n",
    "print('List:',nums)\n",
    "print('----------')\n",
    "print(nums[0])              # print first element\n",
    "nums[0] = 6                 # replace a list element, we will get back to this briefly\n",
    "print(nums)                 # it's changed!\n",
    "print(nums[:-1])            # Starts at the beginning and ends 1 position left of the end"
   ]
  },
  {
   "cell_type": "code",
   "execution_count": null,
   "metadata": {},
   "outputs": [],
   "source": [
    "print\n",
    "len\n",
    "type"
   ]
  }
 ],
 "metadata": {
  "kernelspec": {
   "display_name": "Python 3",
   "language": "python",
   "name": "python3"
  },
  "language_info": {
   "codemirror_mode": {
    "name": "ipython",
    "version": 3
   },
   "file_extension": ".py",
   "mimetype": "text/x-python",
   "name": "python",
   "nbconvert_exporter": "python",
   "pygments_lexer": "ipython3",
   "version": "3.6.4"
  }
 },
 "nbformat": 4,
 "nbformat_minor": 2
}
